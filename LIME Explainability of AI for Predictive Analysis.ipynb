{
 "cells": [
  {
   "cell_type": "code",
   "execution_count": 6,
   "metadata": {},
   "outputs": [
    {
     "name": "stdout",
     "output_type": "stream",
     "text": [
      "Stock data saved\n"
     ]
    }
   ],
   "source": [
    "import requests\n",
    "import pandas as pd\n",
    "import os\n",
    "\n",
    "# Function to fetch data from Alpha Vantage and save to a CSV file\n",
    "def fetch_and_save_stock_data(symbol, api_key, file_path):\n",
    "    url = f\"https://www.alphavantage.co/query?function=TIME_SERIES_MONTHLY&symbol=TSLA&outputsize=full&apikey=XSA5OAE7ZKOKGUNR&datatype=csv\"\n",
    "    data = pd.read_csv(url)\n",
    "    data.to_csv(file_path, index=False)\n",
    "    print(f\"Stock data saved\")\n",
    "\n",
    "# Example usage\n",
    "api_key = 'XSA5OAE7ZKOKGUNR'\n",
    "symbol = 'TSLA'\n",
    "file_path = r\"C:/Users/devit/Downloads/PRT 820 Master Thesis/Tesla_stock_data.csv\"\n",
    "fetch_and_save_stock_data(symbol, api_key, file_path)"
   ]
  }
 ],
 "metadata": {
  "kernelspec": {
   "display_name": "Python 3.10.8 64-bit",
   "language": "python",
   "name": "python3"
  },
  "language_info": {
   "codemirror_mode": {
    "name": "ipython",
    "version": 3
   },
   "file_extension": ".py",
   "mimetype": "text/x-python",
   "name": "python",
   "nbconvert_exporter": "python",
   "pygments_lexer": "ipython3",
   "version": "3.10.8"
  },
  "orig_nbformat": 4,
  "vscode": {
   "interpreter": {
    "hash": "26de051ba29f2982a8de78e945f0abaf191376122a1563185a90213a26c5da77"
   }
  }
 },
 "nbformat": 4,
 "nbformat_minor": 2
}
